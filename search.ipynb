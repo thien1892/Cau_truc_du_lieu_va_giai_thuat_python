{
 "cells": [
  {
   "cell_type": "code",
   "execution_count": 9,
   "metadata": {},
   "outputs": [
    {
     "name": "stdout",
     "output_type": "stream",
     "text": [
      "1\n"
     ]
    }
   ],
   "source": [
    "def binary_search(arr, l, r, key):\n",
    "    while (r - l > 1):\n",
    "        m = (l+r)//2\n",
    "        if key > arr[m]:\n",
    "            l = m \n",
    "        else:\n",
    "            r = m\n",
    "\n",
    "    if arr[l] == key:\n",
    "        return l\n",
    "    elif arr[r] == key:\n",
    "        return r\n",
    "    else:\n",
    "        return -1\n",
    "\n",
    "arr = [1,2,3,5,11]\n",
    "key = 2\n",
    "r = binary_search(arr, 0, len(arr) -1, key)\n",
    "print(r)"
   ]
  }
 ],
 "metadata": {
  "interpreter": {
   "hash": "9aaa86673efefece949d9f58be12f637e32682ba57205509a28543ab3e1b1082"
  },
  "kernelspec": {
   "display_name": "Python 3.8.8 64-bit ('base': conda)",
   "language": "python",
   "name": "python3"
  },
  "language_info": {
   "codemirror_mode": {
    "name": "ipython",
    "version": 3
   },
   "file_extension": ".py",
   "mimetype": "text/x-python",
   "name": "python",
   "nbconvert_exporter": "python",
   "pygments_lexer": "ipython3",
   "version": "3.8.8"
  },
  "orig_nbformat": 4
 },
 "nbformat": 4,
 "nbformat_minor": 2
}
