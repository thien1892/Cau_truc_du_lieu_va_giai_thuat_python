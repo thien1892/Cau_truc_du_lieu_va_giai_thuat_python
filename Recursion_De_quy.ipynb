{
 "cells": [
  {
   "cell_type": "markdown",
   "metadata": {},
   "source": [
    "# Thủ tục đệ quy tính n!"
   ]
  },
  {
   "cell_type": "code",
   "execution_count": 28,
   "metadata": {},
   "outputs": [],
   "source": [
    "# tinh n giai thua\n",
    "def giaithua(n):\n",
    "    # kiem tra n la mot so nguyen hay khong\n",
    "    if isinstance(n, int) != True:\n",
    "        return 'kiem tra lai {} la so tu nhien hay khong'.format(n)\n",
    "    else:\n",
    "        try:\n",
    "            if n < 0 :\n",
    "                return 'khong co giai thua cho so am'\n",
    "            elif n <=1:\n",
    "                return 1\n",
    "            else:\n",
    "                return n * giaithua(n-1)\n",
    "        except:\n",
    "            return 'kiem tra lai {} la so tu nhien hay khong'.format(n)"
   ]
  },
  {
   "cell_type": "markdown",
   "metadata": {},
   "source": [
    "- t(1) = 1\n",
    "- t(n) = 3 + t(n-1)\n",
    "- t(n-k) = 3k + t(n-k)\n",
    "\n",
    "**Chon k = n-1, ta co:**\n",
    "- t(n) = 3(n -1) + t(1) = 3n -3 +1 = 3n -2 = O(n)"
   ]
  },
  {
   "cell_type": "code",
   "execution_count": 54,
   "metadata": {},
   "outputs": [
    {
     "name": "stdout",
     "output_type": "stream",
     "text": [
      "1! = 1\n",
      "3! = 6\n",
      "5! = 120\n",
      "1.1! = kiem tra lai 1.1 la so tu nhien hay khong\n",
      "a! = kiem tra lai a la so tu nhien hay khong\n"
     ]
    }
   ],
   "source": [
    "print( '1! = {}'.format(giaithua(1)))\n",
    "print( '3! = {}'.format(giaithua(3)))\n",
    "print( '5! = {}'.format(giaithua(5)))\n",
    "print( '1.1! = {}'.format(giaithua(1.1)))\n",
    "print( 'a! = {}'.format(giaithua('a')))"
   ]
  },
  {
   "cell_type": "code",
   "execution_count": 41,
   "metadata": {},
   "outputs": [],
   "source": [
    "def tim_kiem_nhi_phan(a, x):\n",
    "    '''\n",
    "    Aggs:\n",
    "        a: la mot mang duoc sap xep theo thu tu tang dan\n",
    "        x: la mot so bat ky\n",
    "    Return:\n",
    "        Neu x thuoc a, tra ve chi so i cua day a ma a[i] = x\n",
    "        Neu x khong thuoc a, tra ve -1\n",
    "    '''\n",
    "    n = len(a)\n",
    "    left, right = 0, n-1\n",
    "    while left <= right:\n",
    "        mid = (left + right) // 2\n",
    "        if x < a[mid]:\n",
    "            right = mid -1\n",
    "        elif x > a[mid]:\n",
    "            left = mid +1\n",
    "        else:\n",
    "            return mid\n",
    "    return -1\n"
   ]
  },
  {
   "cell_type": "markdown",
   "metadata": {},
   "source": [
    "- t(1) =1\n",
    "- t(n) = 1 + t(n/2)\n",
    "- t(n) = k + t(n /(2^k))\n",
    " \n",
    "**Chon k = log(n), ta co:**\n",
    "- t(n) = log(n) + t(1) = 1+ log(n) = O(log(n))"
   ]
  },
  {
   "cell_type": "code",
   "execution_count": 48,
   "metadata": {},
   "outputs": [
    {
     "name": "stdout",
     "output_type": "stream",
     "text": [
      "5\n",
      "-1\n"
     ]
    }
   ],
   "source": [
    "print(tim_kiem_nhi_phan([1,3,5,7,9,11,13,14], 11))\n",
    "print(tim_kiem_nhi_phan([1,3,5,7,9,11,13,14], 7.6))"
   ]
  },
  {
   "cell_type": "markdown",
   "metadata": {},
   "source": [
    "# Thủ tục đệ quy dãy số fibonaci"
   ]
  },
  {
   "cell_type": "code",
   "execution_count": 51,
   "metadata": {},
   "outputs": [],
   "source": [
    "def fibonaci(n):\n",
    "    '''\n",
    "    Aggs:\n",
    "        n la mot so tu nhien\n",
    "    Return:\n",
    "        so fibonaci thu n cua day fibonaci\n",
    "    '''\n",
    "    if n <=2:\n",
    "        return 1\n",
    "    else:\n",
    "        return fibonaci(n-1) + fibonaci(n-2)"
   ]
  },
  {
   "cell_type": "code",
   "execution_count": 53,
   "metadata": {},
   "outputs": [
    {
     "name": "stdout",
     "output_type": "stream",
     "text": [
      "So thu 1 cua day fibonaci la: 1\n",
      "So thu 2 cua day fibonaci la: 1\n",
      "So thu 3 cua day fibonaci la: 2\n",
      "So thu 4 cua day fibonaci la: 3\n",
      "So thu 5 cua day fibonaci la: 5\n",
      "So thu 6 cua day fibonaci la: 8\n",
      "So thu 7 cua day fibonaci la: 13\n",
      "So thu 8 cua day fibonaci la: 21\n",
      "So thu 9 cua day fibonaci la: 34\n"
     ]
    }
   ],
   "source": [
    "for i in range(1,10):\n",
    "    print('So thu {} cua day fibonaci la: {}'.format(i, fibonaci(i)))"
   ]
  },
  {
   "cell_type": "markdown",
   "metadata": {},
   "source": [
    "# Thủ tục đệ quy giải bài toán n quân hậu đặt lên bàn cờ n x n mà các quân hậu không ăn nhau"
   ]
  },
  {
   "cell_type": "code",
   "execution_count": 65,
   "metadata": {},
   "outputs": [],
   "source": [
    "def under_attack(column, existing_queens):\n",
    "    # ASSUMES that row = len(existing_queens) + 1\n",
    "    row = len(existing_queens)+1\n",
    "    for queen in existing_queens:\n",
    "        r,c = queen\n",
    "        if r == row: return True # Check row\n",
    "        if c == column: return True # Check column\n",
    "        if (column-c) == (row-r): return True # Check left diagonal\n",
    "        if (column-c) == -(row-r): return True # Check right diagonal\n",
    "    return False\n",
    "\n",
    "def solve(n):\n",
    "    if n == 0: return [[]] # No RECURSION if n=0. \n",
    "    smaller_solutions = solve(n-1) # RECURSION!!!!!!!!!!!!!!\n",
    "    solutions = []\n",
    "    for solution in smaller_solutions:# I moved this around, so it makes more sense\n",
    "        for column in range(1,BOARD_SIZE+1): # I changed this, so it makes more sense\n",
    "            # try adding a new queen to row = n, column = column \n",
    "            if not under_attack(column , solution): \n",
    "                solutions.append(solution + [(n,column)])\n",
    "    return solutions\n",
    "\n",
    "BOARD_SIZE = 8"
   ]
  },
  {
   "cell_type": "code",
   "execution_count": 88,
   "metadata": {},
   "outputs": [
    {
     "name": "stdout",
     "output_type": "stream",
     "text": [
      "So luong giai phap cho bai toan 8 con hau la: 92\n",
      "Giai phap 1 : [(1, 1), (2, 5), (3, 8), (4, 6), (5, 3), (6, 7), (7, 2), (8, 4)]\n",
      "['X', 0, 0, 0, 0, 0, 0, 0]\n",
      "[0, 0, 0, 0, 'X', 0, 0, 0]\n",
      "[0, 0, 0, 0, 0, 0, 0, 'X']\n",
      "[0, 0, 0, 0, 0, 'X', 0, 0]\n",
      "[0, 0, 'X', 0, 0, 0, 0, 0]\n",
      "[0, 0, 0, 0, 0, 0, 'X', 0]\n",
      "[0, 'X', 0, 0, 0, 0, 0, 0]\n",
      "[0, 0, 0, 'X', 0, 0, 0, 0]\n",
      "Giai phap 2 : [(1, 1), (2, 6), (3, 8), (4, 3), (5, 7), (6, 4), (7, 2), (8, 5)]\n",
      "['X', 0, 0, 0, 0, 0, 0, 0]\n",
      "[0, 0, 0, 0, 0, 'X', 0, 0]\n",
      "[0, 0, 0, 0, 0, 0, 0, 'X']\n",
      "[0, 0, 'X', 0, 0, 0, 0, 0]\n",
      "[0, 0, 0, 0, 0, 0, 'X', 0]\n",
      "[0, 0, 0, 'X', 0, 0, 0, 0]\n",
      "[0, 'X', 0, 0, 0, 0, 0, 0]\n",
      "[0, 0, 0, 0, 'X', 0, 0, 0]\n",
      "Giai phap 3 : [(1, 1), (2, 7), (3, 4), (4, 6), (5, 8), (6, 2), (7, 5), (8, 3)]\n",
      "['X', 0, 0, 0, 0, 0, 0, 0]\n",
      "[0, 0, 0, 0, 0, 0, 'X', 0]\n",
      "[0, 0, 0, 'X', 0, 0, 0, 0]\n",
      "[0, 0, 0, 0, 0, 'X', 0, 0]\n",
      "[0, 0, 0, 0, 0, 0, 0, 'X']\n",
      "[0, 'X', 0, 0, 0, 0, 0, 0]\n",
      "[0, 0, 0, 0, 'X', 0, 0, 0]\n",
      "[0, 0, 'X', 0, 0, 0, 0, 0]\n"
     ]
    }
   ],
   "source": [
    "print('So luong giai phap cho bai toan {} con hau la: {}'.format(8, len(solve(8))))\n",
    "num_result = 3\n",
    "for j in range(num_result):\n",
    "    print('Giai phap {} : {}'.format(j+1, solve(8)[j]), end= '\\n')\n",
    "    for i in range(8):\n",
    "        a = [0]* 8\n",
    "        for (row, col) in solve(8)[j]:\n",
    "            if i == row-1:\n",
    "                a[col-1] = 'X'\n",
    "        print(a, sep= ' ', end= '\\n')"
   ]
  },
  {
   "cell_type": "markdown",
   "metadata": {},
   "source": [
    "# Tim Uoc So Chung lon nhat"
   ]
  },
  {
   "cell_type": "code",
   "execution_count": 110,
   "metadata": {},
   "outputs": [],
   "source": [
    "def UCLN(p,q):\n",
    "    r = p%q\n",
    "    if r == 0:\n",
    "        return q\n",
    "    else:\n",
    "        return UCLN(q,r)\n"
   ]
  },
  {
   "cell_type": "code",
   "execution_count": 114,
   "metadata": {},
   "outputs": [
    {
     "data": {
      "text/plain": [
       "3"
      ]
     },
     "execution_count": 114,
     "metadata": {},
     "output_type": "execute_result"
    }
   ],
   "source": [
    "UCLN(24,15)"
   ]
  },
  {
   "cell_type": "markdown",
   "metadata": {},
   "source": [
    "# Thu tuc de qui in nguoc mot dong ky tu"
   ]
  },
  {
   "cell_type": "code",
   "execution_count": 125,
   "metadata": {},
   "outputs": [],
   "source": [
    "def dao_nguoc(string):\n",
    "    n = len(string)\n",
    "    if n == 1:\n",
    "        return string\n",
    "    else:\n",
    "        return string[n -1] + dao_nguoc(string[0:n-1])"
   ]
  },
  {
   "cell_type": "code",
   "execution_count": 127,
   "metadata": {},
   "outputs": [
    {
     "data": {
      "text/plain": [
       "'iot al neiht'"
      ]
     },
     "execution_count": 127,
     "metadata": {},
     "output_type": "execute_result"
    }
   ],
   "source": [
    "dao_nguoc('thien la toi')"
   ]
  },
  {
   "cell_type": "markdown",
   "metadata": {},
   "source": [
    "# Thu tuc de qui in ra tat ca hoan vi cua n phan tu"
   ]
  },
  {
   "cell_type": "code",
   "execution_count": 210,
   "metadata": {},
   "outputs": [],
   "source": [
    "def hoan_vi(array):\n",
    "    n = len(array)\n",
    "    if n ==1:\n",
    "        return [array]\n",
    "    else:\n",
    "        # permutation [a,b,c,...] = [a + permutation[b,c,...], b + permutation[a,c,..], ...]\n",
    "        list_hoan_vi = []\n",
    "        for a in array:\n",
    "            array_con_lai = [i for i in array if i != a]\n",
    "            hoan_vi_array_con_lai = hoan_vi(array_con_lai)\n",
    "            for t in hoan_vi_array_con_lai:\n",
    "                list_hoan_vi.append([a]+ t)\n",
    "        return list_hoan_vi"
   ]
  },
  {
   "cell_type": "code",
   "execution_count": 213,
   "metadata": {},
   "outputs": [
    {
     "data": {
      "text/plain": [
       "[[1, 2, 20], [1, 20, 2], [2, 1, 20], [2, 20, 1], [20, 1, 2], [20, 2, 1]]"
      ]
     },
     "execution_count": 213,
     "metadata": {},
     "output_type": "execute_result"
    }
   ],
   "source": [
    "hoan_vi([1,2, 20])"
   ]
  },
  {
   "cell_type": "code",
   "execution_count": 215,
   "metadata": {},
   "outputs": [
    {
     "data": {
      "text/plain": [
       "[['t', 'o', 'i'],\n",
       " ['t', 'i', 'o'],\n",
       " ['o', 't', 'i'],\n",
       " ['o', 'i', 't'],\n",
       " ['i', 't', 'o'],\n",
       " ['i', 'o', 't']]"
      ]
     },
     "execution_count": 215,
     "metadata": {},
     "output_type": "execute_result"
    }
   ],
   "source": [
    "hoan_vi('toi')"
   ]
  },
  {
   "cell_type": "markdown",
   "metadata": {},
   "source": [
    "# Thủ tục đệ quy tính tổ hợp chập k của n phần tử C(n,k)"
   ]
  },
  {
   "cell_type": "code",
   "execution_count": 216,
   "metadata": {},
   "outputs": [],
   "source": [
    "def C(n,k):\n",
    "    if n == k:\n",
    "        return 1\n",
    "    if k == 0:\n",
    "        return 1\n",
    "    if n > k and k> 0:\n",
    "        return C(n-1, k-1) + C(n-1, k)\n"
   ]
  },
  {
   "cell_type": "code",
   "execution_count": 219,
   "metadata": {},
   "outputs": [
    {
     "data": {
      "text/plain": [
       "455"
      ]
     },
     "execution_count": 219,
     "metadata": {},
     "output_type": "execute_result"
    }
   ],
   "source": [
    "C(15,3)"
   ]
  },
  {
   "cell_type": "code",
   "execution_count": 220,
   "metadata": {},
   "outputs": [
    {
     "data": {
      "text/plain": [
       "455.0"
      ]
     },
     "execution_count": 220,
     "metadata": {},
     "output_type": "execute_result"
    }
   ],
   "source": [
    "giaithua(15)/ (giaithua(3) * giaithua(12))"
   ]
  }
 ],
 "metadata": {
  "interpreter": {
   "hash": "d2623cced875dcacf17ebc5171cc93dd2025d8fbab036215a9693031c0ddd070"
  },
  "kernelspec": {
   "display_name": "Python 3.8.0 64-bit",
   "name": "python3"
  },
  "language_info": {
   "codemirror_mode": {
    "name": "ipython",
    "version": 3
   },
   "file_extension": ".py",
   "mimetype": "text/x-python",
   "name": "python",
   "nbconvert_exporter": "python",
   "pygments_lexer": "ipython3",
   "version": "3.8.0"
  },
  "orig_nbformat": 4
 },
 "nbformat": 4,
 "nbformat_minor": 2
}
