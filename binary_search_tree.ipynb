{
 "cells": [
  {
   "cell_type": "markdown",
   "metadata": {},
   "source": [
    "# Tìm kiếm cây nhị phân\n",
    "\n",
    ">**Bài toán**: Bạn có danh sách 100 triệu người dùng bao gồm: tên, username, email. Bạn xây dựng cơ sở dữ liệu này đề thực hiện các việc sau:\n",
    ">- Thêm (Insert): thêm thông tin của 1 người dùng mới\n",
    ">- Tìm kiếm (Find): Tìm kiếm thông tin 1 người dùng khi biết username\n",
    ">- Cập nhật (Update): Bổ sung, cập nhật thông tin 1 người dùng\n",
    ">- Danh sách (List): Cung cấp danh sách người dùng, theo thứ tự tăng dần\n",
    ">\n",
    "> Cho rằng các username là duy nhất\n"
   ]
  },
  {
   "cell_type": "markdown",
   "metadata": {},
   "source": [
    "# 1. Làm rõ vấn đề:\n",
    "\n",
    "## **Vấn đề:**\n",
    "> Bạn xây dựng 1 cơ sở dữ liệu chứa 100 triệu bản ghi và thực hiện các công việc thêm, tìm kiếm, cập nhật, lấy danh sách hiệu quả.\n",
    "\n",
    "## **Đầu vào(Input):**\n",
    "> Là 1 cấu trúc dữ liệu gồm: tên, username, email"
   ]
  },
  {
   "cell_type": "code",
   "execution_count": 1,
   "metadata": {},
   "outputs": [],
   "source": [
    "class User:\n",
    "    def __init__(self, username, name, email):\n",
    "        self.username = username\n",
    "        self.name = name\n",
    "        self.email = email\n",
    "    \n",
    "    def __repr__(self):\n",
    "        return (f'User(username=\\'{self.username}\\', name=\\'{self.name}\\', email=\\'{self.email}\\')')\n",
    "    \n",
    "    def __str__(self) -> str:\n",
    "        return self.__repr__()\n"
   ]
  },
  {
   "cell_type": "code",
   "execution_count": 2,
   "metadata": {},
   "outputs": [
    {
     "data": {
      "text/plain": [
       "__main__.User"
      ]
     },
     "execution_count": 2,
     "metadata": {},
     "output_type": "execute_result"
    }
   ],
   "source": [
    "user1 = User('thien', 'thien1892', 'thien1892@gmail.com')\n",
    "type(user1)"
   ]
  },
  {
   "cell_type": "code",
   "execution_count": 3,
   "metadata": {},
   "outputs": [
    {
     "name": "stdout",
     "output_type": "stream",
     "text": [
      "user1: User(username='thien', name='thien1892', email='thien1892@gmail.com')\n",
      "thien1892 thien thien1892@gmail.com\n"
     ]
    }
   ],
   "source": [
    "print('user1:', user1)\n",
    "print(user1.name, user1.username, user1.email)"
   ]
  },
  {
   "cell_type": "markdown",
   "metadata": {},
   "source": [
    "## Đầu ra(Output):**\n",
    "> Ta tạo 1 class với các method insert, find, update, list "
   ]
  },
  {
   "cell_type": "code",
   "execution_count": 4,
   "metadata": {},
   "outputs": [],
   "source": [
    "class UserDatabase:\n",
    "    def insert(self, user):\n",
    "        pass\n",
    "    def find(self, user):\n",
    "        pass\n",
    "    def update(self, user):\n",
    "        pass\n",
    "    def list(self, user):\n",
    "        pass"
   ]
  },
  {
   "cell_type": "markdown",
   "metadata": {},
   "source": [
    "# 2. Đưa ra một số ví dụ:"
   ]
  },
  {
   "cell_type": "code",
   "execution_count": 5,
   "metadata": {},
   "outputs": [],
   "source": [
    "thienchan = User('thienchan', 'chanchan','thienchan@example.com')\n",
    "hien = User('hiennt', 'hien', 'hiennt@example.com')\n",
    "thien = User('thien1892', 'thien', 'thien@exapmle.com')\n",
    "tham = User('thamtth', 'tham', 'tham@example.com')\n",
    "thanh = User('thanhtc', 'thanh', 'thanh@example.com')\n",
    "thuan = User('thuanpt', 'thuan', 'thuan@exaple.com')\n",
    "dieuanh = User('bong', 'dieuanh', 'bong@example.com')"
   ]
  },
  {
   "cell_type": "code",
   "execution_count": 6,
   "metadata": {},
   "outputs": [],
   "source": [
    "users = [thienchan, hien, thien, tham, thanh, thuan, dieuanh]"
   ]
  },
  {
   "cell_type": "code",
   "execution_count": 7,
   "metadata": {},
   "outputs": [
    {
     "data": {
      "text/plain": [
       "('dieuanh', 'bong', 'bong@example.com')"
      ]
     },
     "execution_count": 7,
     "metadata": {},
     "output_type": "execute_result"
    }
   ],
   "source": [
    "dieuanh.name, dieuanh.username, dieuanh.email"
   ]
  },
  {
   "cell_type": "code",
   "execution_count": 8,
   "metadata": {},
   "outputs": [
    {
     "name": "stdout",
     "output_type": "stream",
     "text": [
      "User(username='thienchan', name='chanchan', email='thienchan@example.com')\n"
     ]
    }
   ],
   "source": [
    "print(thienchan)"
   ]
  },
  {
   "cell_type": "code",
   "execution_count": 9,
   "metadata": {},
   "outputs": [
    {
     "data": {
      "text/plain": [
       "[User(username='thienchan', name='chanchan', email='thienchan@example.com'),\n",
       " User(username='hiennt', name='hien', email='hiennt@example.com'),\n",
       " User(username='thien1892', name='thien', email='thien@exapmle.com'),\n",
       " User(username='thamtth', name='tham', email='tham@example.com'),\n",
       " User(username='thanhtc', name='thanh', email='thanh@example.com'),\n",
       " User(username='thuanpt', name='thuan', email='thuan@exaple.com'),\n",
       " User(username='bong', name='dieuanh', email='bong@example.com')]"
      ]
     },
     "execution_count": 9,
     "metadata": {},
     "output_type": "execute_result"
    }
   ],
   "source": [
    "users"
   ]
  },
  {
   "cell_type": "markdown",
   "metadata": {},
   "source": [
    "## **Liệt kê một số bối cảnh để kiểm tra output:**\n",
    "> **Insert:**\n",
    "> 1. Thêm 1 user mới chưa có trong danh sách\n",
    "> 2. Thêm 1 user mới mà user đã có trong danh sách\n",
    "> 3. Thêm 1 user mới mà username trống\n",
    "> 4. ...\n",
    ">\n",
    "> **Find:**\n",
    "> 1. Tìm 1 user mà user có trong danh sách\n",
    "> 2. Tìm 1 user mà user không có trong danh sách\n",
    "> 3. ...\n",
    ">\n",
    "> **Update:**\n",
    "> 1. Cập nhật 1 user mà user có trong danh sách\n",
    "> 2. Cập nhật 1 user mà user không có trong danh sách\n",
    "> 3. ...\n",
    ">\n",
    "> **List:**\n",
    "> 1. List danh sách mà danh sách > 1 user\n",
    "> 2. List danh sách mà danh sách = 1 user\n",
    "> 3. List danh sách mà danh sách trống\n",
    "> 4. ...\n"
   ]
  },
  {
   "cell_type": "markdown",
   "metadata": {},
   "source": [
    "# 3. Đưa nhanh 1 giải pháp\n",
    "\n",
    "> Ta lưu User theo thứ tự tăng dần (a->z)\n",
    "> Các method ta thực hiện như sau:\n",
    "> 1. Insert: Duyệt toàn bộ danh sách và thêm user mới sao cho danh sách mới được sắp xếp theo thứ tự\n",
    "> 2. Find: Duyệt toàn bộ danh sách và tìm user giống user tìm kiếm\n",
    "> 3. Update: Duyệt toàn bộ danh sách và tìm user giống user cần update để update thông tin\n",
    "> 4. List: Trả về kết quả danh sách các user"
   ]
  },
  {
   "cell_type": "code",
   "execution_count": 10,
   "metadata": {},
   "outputs": [
    {
     "data": {
      "text/plain": [
       "True"
      ]
     },
     "execution_count": 10,
     "metadata": {},
     "output_type": "execute_result"
    }
   ],
   "source": [
    "'thien' > 'chan'"
   ]
  },
  {
   "cell_type": "markdown",
   "metadata": {},
   "source": [
    "# 4. Thực hiện giải pháp vừa nêu và kiểm tra các ví dụ đưa ra"
   ]
  },
  {
   "cell_type": "code",
   "execution_count": 11,
   "metadata": {},
   "outputs": [],
   "source": [
    "class UserDatabase:\n",
    "    def __init__(self):\n",
    "        self.users = []\n",
    "    \n",
    "    def insert(self, user):\n",
    "        i = 0\n",
    "        while i < len(self.users):\n",
    "            # Tìm vị trí đầu tiên mà usernamr của danh sách lớn hơn username của user thêm vào\n",
    "            if self.users[i].username > user.username:\n",
    "                break\n",
    "            i += 1\n",
    "        self.users.insert(i, user)\n",
    "    \n",
    "    def find(self, username):\n",
    "        for user in self.users:\n",
    "            if user.username == username:\n",
    "                return user\n",
    "    \n",
    "    def update(self, user):\n",
    "        # Tìm user cần update\n",
    "        target = self.find(user.username)\n",
    "        target.name, target.email = user.name, user.email\n",
    "    \n",
    "    def list(self):\n",
    "        return self.users\n"
   ]
  },
  {
   "cell_type": "code",
   "execution_count": 12,
   "metadata": {},
   "outputs": [],
   "source": [
    "database = UserDatabase()"
   ]
  },
  {
   "cell_type": "code",
   "execution_count": 13,
   "metadata": {},
   "outputs": [],
   "source": [
    "database.insert(thienchan)\n",
    "database.insert(thien)\n",
    "database.insert(hien)"
   ]
  },
  {
   "cell_type": "code",
   "execution_count": 14,
   "metadata": {},
   "outputs": [
    {
     "data": {
      "text/plain": [
       "[User(username='hiennt', name='hien', email='hiennt@example.com'),\n",
       " User(username='thien1892', name='thien', email='thien@exapmle.com'),\n",
       " User(username='thienchan', name='chanchan', email='thienchan@example.com')]"
      ]
     },
     "execution_count": 14,
     "metadata": {},
     "output_type": "execute_result"
    }
   ],
   "source": [
    "database.list()"
   ]
  },
  {
   "cell_type": "code",
   "execution_count": 15,
   "metadata": {},
   "outputs": [
    {
     "data": {
      "text/plain": [
       "User(username='hiennt', name='hien', email='hiennt@example.com')"
      ]
     },
     "execution_count": 15,
     "metadata": {},
     "output_type": "execute_result"
    }
   ],
   "source": [
    "user = database.find('hiennt')\n",
    "user"
   ]
  },
  {
   "cell_type": "code",
   "execution_count": 16,
   "metadata": {},
   "outputs": [
    {
     "data": {
      "text/plain": [
       "[User(username='bong', name='dieuanh', email='bong@example.com'),\n",
       " User(username='hiennt', name='hien', email='hiennt@example.com'),\n",
       " User(username='thien1892', name='thien', email='thien@exapmle.com'),\n",
       " User(username='thienchan', name='chanchan', email='thienchan@example.com')]"
      ]
     },
     "execution_count": 16,
     "metadata": {},
     "output_type": "execute_result"
    }
   ],
   "source": [
    "database.insert(dieuanh)\n",
    "database.list()"
   ]
  },
  {
   "cell_type": "code",
   "execution_count": 17,
   "metadata": {},
   "outputs": [
    {
     "data": {
      "text/plain": [
       "[User(username='bong', name='dieuanh', email='bong@example.com'),\n",
       " User(username='hiennt', name='hien', email='hiennt@example.com'),\n",
       " User(username='thien1892', name='thientran', email='thien1892@gmail.com'),\n",
       " User(username='thienchan', name='chanchan', email='thienchan@example.com')]"
      ]
     },
     "execution_count": 17,
     "metadata": {},
     "output_type": "execute_result"
    }
   ],
   "source": [
    "database.update(User(username= 'thien1892', name= 'thientran', email='thien1892@gmail.com'))\n",
    "database.list()"
   ]
  },
  {
   "cell_type": "markdown",
   "metadata": {},
   "source": [
    "# 5. Phân tích độ phức tạp của thuật toán và xác định những yếu tố không hiệu quả\n",
    "\n",
    "## Độ phức tạp của các method:\n",
    "> 1. Insert: O(N)\n",
    "> 2. Update: O(N)\n",
    "> 3. Find: O(N)\n",
    "> 4. List: O(1)\n",
    "\n",
    "## Ta xem với 100 triệu người dùng thì thời gian cho một bài toán có độ phức tạp O(N) là bao nhiêu"
   ]
  },
  {
   "cell_type": "code",
   "execution_count": 18,
   "metadata": {},
   "outputs": [
    {
     "name": "stdout",
     "output_type": "stream",
     "text": [
      "Wall time: 16.2 s\n"
     ]
    }
   ],
   "source": [
    "%%time\n",
    "for i in range(100000000):\n",
    "    j = i*i"
   ]
  },
  {
   "cell_type": "markdown",
   "metadata": {},
   "source": [
    "## Vấn đề đặt ra:\n",
    "> 1. Liệu có ai chờ gần 20s để đăng nhập, cập nhật thông tin, tìm kiếm hay không?\n",
    "> 2. Ta nâng cấp phần cứng tính toán sẽ giảm được thời gian chờ này, nhưng đây có phải là giải pháp hiệu quả. Máy tính đang ngày càng nhanh hơn, nhưng đâu phải cứ chậm thì nâng cấp phần cứng, bạn là một chuyên gia cơ mà???"
   ]
  },
  {
   "cell_type": "markdown",
   "metadata": {},
   "source": [
    "# 6. Áp dụng các kỹ thuật để khắc phục tình trạng kém hiệu quả\n",
    "\n",
    "## Ta hạn chế vòng lặp bằng phương pháp tìm kiếm cây nhị phân.\n",
    "> Nó được gọi là cây nhị phân vì:\n",
    "> 1. Mỗi node có nhiều nhất 2 \"children\" (trái và phải)\n",
    "> 2. 1 node có 0,1,2 \"children\", node không có \"children\" còn được gọi là lá (leaf)\n",
    "> 3. Node trên cùng còn được gọi là node rễ (root)\n",
    "\n",
    "## Trong trường hợp của chúng ta, ta yêu cầu cây nhị phân có thêm các đặc tính:\n",
    "> 1. Keys và Values: Mỗi node sẽ chứa 1 key là username và 1 value là 1 object của User. Một cây nhị phân có \n",
    "keys và values thường được gọi là **map** hay **tree map**\n",
    "> 2. Cây tìm kiếm nhị phân: Cây con bên trái của bất kỳ node nào chứa các khóa (keys) mà về mặt ngữ vựng được xắp xếp nhỏ hơn, và ngược lại, cây con bên phải chứa các khóa mà về mặt ngữ vựng được xắp xếp lớn hơn. Một tree thỏa mãn đặc tính này được gọi là **cây tìm kiếm nhị phân (binary search trees)**, và nó dễ dàng xác định một khóa key bằng cách đi một đường qua các node.\n",
    "> 3. Cây cân bằng (balance tree): Một cây được gọi là cân bằng nếu nó không quá nghiêng về một bên nào cả. Cây con bên trái và cây con bên phải của bất kỳ một node nào cũng không được có chênh lệch chiều sâu/ chiều cao > 1 mức.\n",
    "\n",
    "## Chiều cao/ chiều sâu của 1 cây nhị phân:\n",
    "> 1 cây có N node à chiều cao là k, ta có số node tối đa ở mỗi level, xếp trên xuống:\n",
    ">\n",
    "> Level 0: 1\n",
    ">\n",
    "> Level 1: 2^1\n",
    ">\n",
    "> Level 2: 2^2\n",
    ">\n",
    "> ...\n",
    ">\n",
    "> Level k-1: 2^(k-1)\n",
    ">\n",
    "> Khi đó: N >= 1 + 2^1 + 2^2 + ... + 2^(k-1)\n",
    ">\n",
    "> 2^k <= N+1\n",
    ">\n",
    "> k <= log(N+1) <= log(N) + 1\n"
   ]
  },
  {
   "cell_type": "code",
   "execution_count": 19,
   "metadata": {},
   "outputs": [],
   "source": [
    "class TreeNode:\n",
    "    def __init__(self, key):\n",
    "        self.key = key\n",
    "        self.left = None\n",
    "        self.right = None"
   ]
  },
  {
   "cell_type": "code",
   "execution_count": 20,
   "metadata": {},
   "outputs": [],
   "source": [
    "node0 = TreeNode(1)\n",
    "node1 = TreeNode(2)\n",
    "node2 = TreeNode(3)"
   ]
  },
  {
   "cell_type": "code",
   "execution_count": 21,
   "metadata": {},
   "outputs": [
    {
     "data": {
      "text/plain": [
       "<__main__.TreeNode at 0x173a1912640>"
      ]
     },
     "execution_count": 21,
     "metadata": {},
     "output_type": "execute_result"
    }
   ],
   "source": [
    "node1"
   ]
  },
  {
   "cell_type": "code",
   "execution_count": 22,
   "metadata": {},
   "outputs": [
    {
     "data": {
      "text/plain": [
       "3"
      ]
     },
     "execution_count": 22,
     "metadata": {},
     "output_type": "execute_result"
    }
   ],
   "source": [
    "node2.key"
   ]
  },
  {
   "cell_type": "code",
   "execution_count": 23,
   "metadata": {},
   "outputs": [],
   "source": [
    "node0.left = node1\n",
    "node0.right = node2"
   ]
  },
  {
   "cell_type": "code",
   "execution_count": 24,
   "metadata": {},
   "outputs": [
    {
     "data": {
      "text/plain": [
       "1"
      ]
     },
     "execution_count": 24,
     "metadata": {},
     "output_type": "execute_result"
    }
   ],
   "source": [
    "tree = node0\n",
    "tree.key"
   ]
  },
  {
   "cell_type": "code",
   "execution_count": 25,
   "metadata": {},
   "outputs": [
    {
     "name": "stdout",
     "output_type": "stream",
     "text": [
      "2\n",
      "3\n"
     ]
    }
   ],
   "source": [
    "print(tree.left.key)\n",
    "print(tree.right.key)"
   ]
  },
  {
   "cell_type": "markdown",
   "metadata": {},
   "source": [
    "## Tạo một cây có cấu trúc như sau:\n",
    "<img src = 'images/tree0.png'>\n",
    "\n",
    "## Ta tạo một tree từ cấu trúc được lưu như sau (cây con bên trái, khóa, cây con bên phải)"
   ]
  },
  {
   "cell_type": "code",
   "execution_count": 26,
   "metadata": {},
   "outputs": [],
   "source": [
    "tree_tuple = ((1,3,None), 2, ( (None, 3, 4), 5, (6,7,8) )) "
   ]
  },
  {
   "cell_type": "code",
   "execution_count": 27,
   "metadata": {},
   "outputs": [],
   "source": [
    "def parse_tuple(data):\n",
    "    if isinstance(data, tuple) and len(data) == 3:\n",
    "        node = TreeNode(data[1])\n",
    "        node.left = parse_tuple(data[0])\n",
    "        node.right = parse_tuple(data[2])\n",
    "    elif data is None:\n",
    "        node = None\n",
    "    else:\n",
    "        node = TreeNode(data)\n",
    "    return node"
   ]
  },
  {
   "cell_type": "code",
   "execution_count": 28,
   "metadata": {},
   "outputs": [],
   "source": [
    "tree2 = parse_tuple(tree_tuple)"
   ]
  },
  {
   "cell_type": "code",
   "execution_count": 29,
   "metadata": {},
   "outputs": [
    {
     "data": {
      "text/plain": [
       "2"
      ]
     },
     "execution_count": 29,
     "metadata": {},
     "output_type": "execute_result"
    }
   ],
   "source": [
    "tree2.key"
   ]
  },
  {
   "cell_type": "code",
   "execution_count": 30,
   "metadata": {},
   "outputs": [
    {
     "data": {
      "text/plain": [
       "(3, 5)"
      ]
     },
     "execution_count": 30,
     "metadata": {},
     "output_type": "execute_result"
    }
   ],
   "source": [
    "tree2.left.key, tree2.right.key"
   ]
  },
  {
   "cell_type": "code",
   "execution_count": 31,
   "metadata": {},
   "outputs": [
    {
     "data": {
      "text/plain": [
       "(1, None, 3, 7)"
      ]
     },
     "execution_count": 31,
     "metadata": {},
     "output_type": "execute_result"
    }
   ],
   "source": [
    "tree2.left.left.key, tree2.left.right, tree2.right.left.key, tree2.right.right.key"
   ]
  },
  {
   "cell_type": "code",
   "execution_count": 32,
   "metadata": {},
   "outputs": [
    {
     "data": {
      "text/plain": [
       "(4, 6, 8)"
      ]
     },
     "execution_count": 32,
     "metadata": {},
     "output_type": "execute_result"
    }
   ],
   "source": [
    "tree2.right.left.right.key, tree2.right.right.left.key, tree2.right.right.right.key"
   ]
  },
  {
   "cell_type": "markdown",
   "metadata": {},
   "source": [
    "## Tạo 1 tree_tuple từ 1 tree"
   ]
  },
  {
   "cell_type": "code",
   "execution_count": 33,
   "metadata": {},
   "outputs": [],
   "source": [
    "def tree_to_tuple(node):\n",
    "    tuple_trees = ()\n",
    "    if isinstance(node, TreeNode) and node.key != None and node.left != None and node.right != None:\n",
    "        tuple_trees = (tree_to_tuple(node.left),) + (node.key,) + (tree_to_tuple(node.right),)\n",
    "\n",
    "    elif isinstance(node, TreeNode) and node.left == None and node.right != None:\n",
    "        tuple_trees = (None,) + (node.key,) + (tree_to_tuple(node.right),)\n",
    "    elif isinstance(node, TreeNode) and node.right == None and node.left != None:\n",
    "        tuple_trees =  (tree_to_tuple(node.left),) + (node.key,) + (None,)\n",
    "    else:\n",
    "        tuple_trees = node.key\n",
    "    return tuple_trees\n"
   ]
  },
  {
   "cell_type": "code",
   "execution_count": 34,
   "metadata": {},
   "outputs": [
    {
     "data": {
      "text/plain": [
       "((1, 3, None), 2, ((None, 3, 4), 5, (6, 7, 8)))"
      ]
     },
     "execution_count": 34,
     "metadata": {},
     "output_type": "execute_result"
    }
   ],
   "source": [
    "tree_to_tuple(tree2)"
   ]
  },
  {
   "cell_type": "markdown",
   "metadata": {},
   "source": [
    "## Minh họa 1 tree"
   ]
  },
  {
   "cell_type": "code",
   "execution_count": 81,
   "metadata": {},
   "outputs": [],
   "source": [
    "def display_tree(node, space = '\\t', level = 0):\n",
    "    if node is None:\n",
    "        print(space * level)\n",
    "        return\n",
    "    if node.left is None and node.right is None:\n",
    "        print(space * level + str(node.key))\n",
    "        return\n",
    "    display_tree(node.left, space, level +1)\n",
    "    print(space * level + str(node.key))\n",
    "    display_tree(node.right, space, level +1)\n"
   ]
  },
  {
   "cell_type": "code",
   "execution_count": 82,
   "metadata": {},
   "outputs": [
    {
     "name": "stdout",
     "output_type": "stream",
     "text": [
      "\t\t1\n",
      "\t3\n",
      "\t\t\n",
      "2\n",
      "\t\t\t\n",
      "\t\t3\n",
      "\t\t\t4\n",
      "\t5\n",
      "\t\t\t6\n",
      "\t\t7\n",
      "\t\t\t8\n"
     ]
    }
   ],
   "source": [
    "display_tree(tree2)"
   ]
  },
  {
   "cell_type": "markdown",
   "metadata": {},
   "source": [
    "## Duyệt cây nhị phân:\n",
    "> Có 3 cách duyệt cây nhị phân:\n",
    "> 1. Inorder\n",
    "> 2. Preorder\n",
    "> 3. Postorder\n",
    "\n",
    "## Duyệt cây nhị phân inorder:\n",
    "1. Duyệt đệ qui cây con bên trái inorder\n",
    "2. Duyệt node hiện tại\n",
    "3. Duyệt đệ qui cây con bên phải inorder\n",
    "\n",
    "<img src = 'images/tree01.png'>\n",
    "\n",
    "## Duyệt cây nhị phân preorder:\n",
    "1. Duyệt node hiện tại\n",
    "2. Duyệt đệ qui cây con bên trái preorder\n",
    "3. Duyệt đệ qui cây con bên phải preorder\n",
    "\n",
    "<img src = 'images/tree02.png'>\n",
    "\n",
    "## Duyệt cây nhị phân postorder:\n",
    "1. Duyệt đệ qui cây con bên phải postorder\n",
    "2. Duyệt node hiện tại\n",
    "3. Duyệt đệ qui cây con bên trái postorder"
   ]
  },
  {
   "cell_type": "code",
   "execution_count": 83,
   "metadata": {},
   "outputs": [],
   "source": [
    "def traverse_in_order(node):\n",
    "    if node is None: \n",
    "        return []\n",
    "    return(traverse_in_order(node.left) + \n",
    "           [node.key] + \n",
    "           traverse_in_order(node.right))"
   ]
  },
  {
   "cell_type": "code",
   "execution_count": 88,
   "metadata": {},
   "outputs": [],
   "source": [
    "def traverse_pre_order(node):\n",
    "    if node is None:\n",
    "        return []\n",
    "    return ([node.key] + \n",
    "            traverse_pre_order(node.left) +\n",
    "            traverse_pre_order(node.right))"
   ]
  },
  {
   "cell_type": "code",
   "execution_count": 92,
   "metadata": {},
   "outputs": [],
   "source": [
    "def traverse_post_order(node):\n",
    "    if node is None:\n",
    "        return []\n",
    "    return (traverse_post_order(node.right)+ \n",
    "            [node.key] +\n",
    "            traverse_post_order(node.left))"
   ]
  },
  {
   "cell_type": "code",
   "execution_count": 85,
   "metadata": {},
   "outputs": [
    {
     "name": "stdout",
     "output_type": "stream",
     "text": [
      "\t\t1\n",
      "\t3\n",
      "\t\t\n",
      "2\n",
      "\t\t\t\n",
      "\t\t3\n",
      "\t\t\t4\n",
      "\t5\n",
      "\t\t\t6\n",
      "\t\t7\n",
      "\t\t\t8\n"
     ]
    }
   ],
   "source": [
    "tree = parse_tuple(((1,3,None), 2, ((None, 3, 4), 5, (6, 7, 8))))\n",
    "display_tree(tree)"
   ]
  },
  {
   "cell_type": "code",
   "execution_count": 86,
   "metadata": {},
   "outputs": [
    {
     "data": {
      "text/plain": [
       "[1, 3, 2, 3, 4, 5, 6, 7, 8]"
      ]
     },
     "execution_count": 86,
     "metadata": {},
     "output_type": "execute_result"
    }
   ],
   "source": [
    "traverse_in_order(tree)"
   ]
  },
  {
   "cell_type": "code",
   "execution_count": 89,
   "metadata": {},
   "outputs": [
    {
     "data": {
      "text/plain": [
       "[2, 3, 1, 5, 3, 4, 7, 6, 8]"
      ]
     },
     "execution_count": 89,
     "metadata": {},
     "output_type": "execute_result"
    }
   ],
   "source": [
    "traverse_pre_order(tree)"
   ]
  },
  {
   "cell_type": "code",
   "execution_count": 93,
   "metadata": {},
   "outputs": [
    {
     "data": {
      "text/plain": [
       "[8, 7, 6, 5, 4, 3, 2, 3, 1]"
      ]
     },
     "execution_count": 93,
     "metadata": {},
     "output_type": "execute_result"
    }
   ],
   "source": [
    "traverse_post_order(tree)"
   ]
  },
  {
   "cell_type": "markdown",
   "metadata": {},
   "source": [
    "## Viết hàm để tính độ sâu/ độ cao của tree\n",
    "## Viết hàm để tính số node trong 1 tree"
   ]
  },
  {
   "cell_type": "code",
   "execution_count": 94,
   "metadata": {},
   "outputs": [],
   "source": [
    "def tree_hight(node):\n",
    "    if node is None:\n",
    "        return 0\n",
    "    return 1 + max(tree_hight(node.left), tree_hight(node.right))"
   ]
  },
  {
   "cell_type": "code",
   "execution_count": 95,
   "metadata": {},
   "outputs": [
    {
     "data": {
      "text/plain": [
       "4"
      ]
     },
     "execution_count": 95,
     "metadata": {},
     "output_type": "execute_result"
    }
   ],
   "source": [
    "tree_hight(tree)"
   ]
  },
  {
   "cell_type": "code",
   "execution_count": 96,
   "metadata": {},
   "outputs": [],
   "source": [
    "def tree_size(node):\n",
    "    if node is None:\n",
    "        return 0\n",
    "    return 1 + tree_size(node.left) + tree_size(node.right)"
   ]
  },
  {
   "cell_type": "code",
   "execution_count": 97,
   "metadata": {},
   "outputs": [
    {
     "data": {
      "text/plain": [
       "9"
      ]
     },
     "execution_count": 97,
     "metadata": {},
     "output_type": "execute_result"
    }
   ],
   "source": [
    "tree_size(tree)"
   ]
  },
  {
   "cell_type": "markdown",
   "metadata": {},
   "source": [
    "## Đóng gói các chức năng:"
   ]
  },
  {
   "cell_type": "code",
   "execution_count": 108,
   "metadata": {},
   "outputs": [],
   "source": [
    "class TreeNode():\n",
    "    def __init__(self, key):\n",
    "        self.key, self.left, self.right = key, None, None\n",
    "    \n",
    "    def hight(self):\n",
    "        if self is None:\n",
    "            return 0\n",
    "        return 1 + max(TreeNode.hight(self.left), TreeNode.hight(self.right))\n",
    "    \n",
    "    def size(self):\n",
    "        if self is None:\n",
    "            return 0\n",
    "        return 1 + TreeNode.size(self.left) + TreeNode.size(self.right)\n",
    "    \n",
    "    def traverse_in_order(self):\n",
    "        if self is None:\n",
    "            return []\n",
    "        return (TreeNode.traverse_in_order(self.left)+\n",
    "                [self.key] +\n",
    "                TreeNode.traverse_in_order(self.right))\n",
    "\n",
    "    def display_keys(self, space = '\\t', level = 0):\n",
    "        # Node là trống\n",
    "        if self is None:\n",
    "            print(space * level + '∅')\n",
    "            return\n",
    "        # Node là lá\n",
    "        if self.left is None and self.right is None:\n",
    "            print(space * level + str(self.key))\n",
    "            return\n",
    "        \n",
    "        TreeNode.display_keys(self.left, space, level+1)\n",
    "        print(space * level + str(self.key))\n",
    "        TreeNode.display_keys(self.right, space, level+1)\n",
    "    \n",
    "    def to_tuple(self):\n",
    "        if self is None:\n",
    "            return None\n",
    "        if self.left is None and self.right is None:\n",
    "            return self.key\n",
    "        return TreeNode.to_tuple(self.left), self.key, TreeNode.to_tuple(self.right)\n",
    "    \n",
    "    def __str__(self):\n",
    "        return \"BinaryTree <{}>\".format(self.to_tuple())\n",
    "    \n",
    "    def __repr__(self):\n",
    "        return \"BinaryTree <{}>\".format(self.to_tuple())\n",
    "    \n",
    "    @staticmethod    \n",
    "    def parse_tuple(data):\n",
    "        if data is None:\n",
    "            node = None\n",
    "        elif isinstance(data, tuple) and len(data) == 3:\n",
    "            node = TreeNode(data[1])\n",
    "            node.left = TreeNode.parse_tuple(data[0])\n",
    "            node.right = TreeNode.parse_tuple(data[2])\n",
    "        else:\n",
    "            node = TreeNode(data)\n",
    "        return node\n"
   ]
  },
  {
   "cell_type": "code",
   "execution_count": 109,
   "metadata": {},
   "outputs": [
    {
     "data": {
      "text/plain": [
       "((1, 3, None), 2, ((None, 3, 4), 5, (6, 7, 8)))"
      ]
     },
     "execution_count": 109,
     "metadata": {},
     "output_type": "execute_result"
    }
   ],
   "source": [
    "tree_tuple"
   ]
  },
  {
   "cell_type": "code",
   "execution_count": 110,
   "metadata": {},
   "outputs": [],
   "source": [
    "tree = TreeNode.parse_tuple(tree_tuple)"
   ]
  },
  {
   "cell_type": "code",
   "execution_count": 111,
   "metadata": {},
   "outputs": [
    {
     "data": {
      "text/plain": [
       "BinaryTree <((1, 3, None), 2, ((None, 3, 4), 5, (6, 7, 8)))>"
      ]
     },
     "execution_count": 111,
     "metadata": {},
     "output_type": "execute_result"
    }
   ],
   "source": [
    "tree"
   ]
  },
  {
   "cell_type": "code",
   "execution_count": 113,
   "metadata": {},
   "outputs": [
    {
     "name": "stdout",
     "output_type": "stream",
     "text": [
      "\t\t1\n",
      "\t3\n",
      "\t\t∅\n",
      "2\n",
      "\t\t\t∅\n",
      "\t\t3\n",
      "\t\t\t4\n",
      "\t5\n",
      "\t\t\t6\n",
      "\t\t7\n",
      "\t\t\t8\n"
     ]
    }
   ],
   "source": [
    "tree.display_keys()"
   ]
  },
  {
   "cell_type": "code",
   "execution_count": 114,
   "metadata": {},
   "outputs": [
    {
     "data": {
      "text/plain": [
       "4"
      ]
     },
     "execution_count": 114,
     "metadata": {},
     "output_type": "execute_result"
    }
   ],
   "source": [
    "tree.hight()"
   ]
  },
  {
   "cell_type": "code",
   "execution_count": 115,
   "metadata": {},
   "outputs": [
    {
     "data": {
      "text/plain": [
       "9"
      ]
     },
     "execution_count": 115,
     "metadata": {},
     "output_type": "execute_result"
    }
   ],
   "source": [
    "tree.size()"
   ]
  },
  {
   "cell_type": "code",
   "execution_count": 116,
   "metadata": {},
   "outputs": [
    {
     "data": {
      "text/plain": [
       "[1, 3, 2, 3, 4, 5, 6, 7, 8]"
      ]
     },
     "execution_count": 116,
     "metadata": {},
     "output_type": "execute_result"
    }
   ],
   "source": [
    "tree.traverse_in_order()"
   ]
  },
  {
   "cell_type": "code",
   "execution_count": 118,
   "metadata": {},
   "outputs": [
    {
     "data": {
      "text/plain": [
       "((1, 3, None), 2, ((None, 3, 4), 5, (6, 7, 8)))"
      ]
     },
     "execution_count": 118,
     "metadata": {},
     "output_type": "execute_result"
    }
   ],
   "source": [
    "tree.to_tuple()"
   ]
  },
  {
   "cell_type": "code",
   "execution_count": null,
   "metadata": {},
   "outputs": [],
   "source": []
  }
 ],
 "metadata": {
  "interpreter": {
   "hash": "88630d1aeead72ff5f52d8abbdc2c416a0e30170fb5e4a4dc1f45117e9b7f24d"
  },
  "kernelspec": {
   "display_name": "Python 3.8.10 64-bit",
   "language": "python",
   "name": "python3"
  },
  "language_info": {
   "codemirror_mode": {
    "name": "ipython",
    "version": 3
   },
   "file_extension": ".py",
   "mimetype": "text/x-python",
   "name": "python",
   "nbconvert_exporter": "python",
   "pygments_lexer": "ipython3",
   "version": "3.8.10"
  },
  "orig_nbformat": 4
 },
 "nbformat": 4,
 "nbformat_minor": 2
}
