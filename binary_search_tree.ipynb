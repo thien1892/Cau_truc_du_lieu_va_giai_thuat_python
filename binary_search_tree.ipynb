{
 "cells": [
  {
   "cell_type": "markdown",
   "metadata": {},
   "source": [
    "# Tìm kiếm cây nhị phân\n",
    "\n",
    ">**Bài toán**: Bạn có danh sách 100 triệu người dùng bao gồm: tên, username, email. Bạn xây dựng cơ sở dữ liệu này đề thực hiện các việc sau:\n",
    ">- Thêm (Insert): thêm thông tin của 1 người dùng mới\n",
    ">- Tìm kiếm (Find): Tìm kiếm thông tin 1 người dùng khi biết username\n",
    ">- Cập nhật (Update): Bổ sung, cập nhật thông tin 1 người dùng\n",
    ">- Danh sách (List): Cung cấp danh sách người dùng, theo thứ tự tăng dần\n",
    ">\n",
    "> Cho rằng các username là duy nhất\n"
   ]
  },
  {
   "cell_type": "markdown",
   "metadata": {},
   "source": [
    "# 1. Làm rõ vấn đề:\n",
    "\n",
    "## **Vấn đề:**\n",
    "> Bạn xây dựng 1 cơ sở dữ liệu chứa 100 triệu bản ghi và thực hiện các công việc thêm, tìm kiếm, cập nhật, lấy danh sách hiệu quả.\n",
    "\n",
    "## **Đầu vào(Input):**\n",
    "> Là 1 cấu trúc dữ liệu gồm: tên, username, email"
   ]
  },
  {
   "cell_type": "code",
   "execution_count": 1,
   "metadata": {},
   "outputs": [],
   "source": [
    "class User:\n",
    "    def __init__(self, username, name, email):\n",
    "        self.username = username\n",
    "        self.name = name\n",
    "        self.email = email\n",
    "    \n",
    "    def __repr__(self):\n",
    "        return (f'User(username={self.username}, name={self.name}, email={self.email})')\n",
    "    \n",
    "    def __str__(self) -> str:\n",
    "        return self.__repr__()\n"
   ]
  },
  {
   "cell_type": "code",
   "execution_count": 2,
   "metadata": {},
   "outputs": [
    {
     "data": {
      "text/plain": [
       "__main__.User"
      ]
     },
     "execution_count": 2,
     "metadata": {},
     "output_type": "execute_result"
    }
   ],
   "source": [
    "user1 = User('thien', 'thien1892', 'thien1892@gmail.com')\n",
    "type(user1)"
   ]
  },
  {
   "cell_type": "code",
   "execution_count": 3,
   "metadata": {},
   "outputs": [
    {
     "name": "stdout",
     "output_type": "stream",
     "text": [
      "user1: User(username=thien, name=thien1892, email=thien1892@gmail.com)\n",
      "thien1892 thien thien1892@gmail.com\n"
     ]
    }
   ],
   "source": [
    "print('user1:', user1)\n",
    "print(user1.name, user1.username, user1.email)"
   ]
  },
  {
   "cell_type": "markdown",
   "metadata": {},
   "source": [
    "## Đầu ra(Output):**\n",
    "> Ta tạo 1 class với các method insert, find, update, list "
   ]
  },
  {
   "cell_type": "code",
   "execution_count": 4,
   "metadata": {},
   "outputs": [],
   "source": [
    "class UserDatabase:\n",
    "    def insert(self, user):\n",
    "        pass\n",
    "    def find(self, user):\n",
    "        pass\n",
    "    def update(self, user):\n",
    "        pass\n",
    "    def list(self, user):\n",
    "        pass"
   ]
  },
  {
   "cell_type": "markdown",
   "metadata": {},
   "source": [
    "# 2. Đưa ra một số ví dụ:"
   ]
  },
  {
   "cell_type": "code",
   "execution_count": 5,
   "metadata": {},
   "outputs": [],
   "source": [
    "thienchan = User('thienchan', 'chanchan','thienchan@example.com')\n",
    "hien = User('hien', 'hiennt', 'hiennt@example.com')\n",
    "thien = User('thien', 'thien1892', 'thien@exapmle.com')\n",
    "tham = User('tham', 'thamtth', 'tham@example.com')\n",
    "thanh = User('thanh', 'thanhtc', 'thanh@example.com')\n",
    "thuan = User('thuan', 'thuanpt', 'thuan@exaple.com')\n",
    "dieuanh = User('dieuanh', 'bong', 'bong@example.com')"
   ]
  },
  {
   "cell_type": "code",
   "execution_count": 6,
   "metadata": {},
   "outputs": [],
   "source": [
    "users = [thienchan, hien, thien, tham, thanh, thuan, dieuanh]"
   ]
  },
  {
   "cell_type": "code",
   "execution_count": 7,
   "metadata": {},
   "outputs": [
    {
     "data": {
      "text/plain": [
       "('bong', 'dieuanh', 'bong@example.com')"
      ]
     },
     "execution_count": 7,
     "metadata": {},
     "output_type": "execute_result"
    }
   ],
   "source": [
    "dieuanh.name, dieuanh.username, dieuanh.email"
   ]
  },
  {
   "cell_type": "code",
   "execution_count": 8,
   "metadata": {},
   "outputs": [
    {
     "name": "stdout",
     "output_type": "stream",
     "text": [
      "User(username=thienchan, name=chanchan, email=thienchan@example.com)\n"
     ]
    }
   ],
   "source": [
    "print(thienchan)"
   ]
  },
  {
   "cell_type": "code",
   "execution_count": 9,
   "metadata": {},
   "outputs": [
    {
     "data": {
      "text/plain": [
       "[User(username=thienchan, name=chanchan, email=thienchan@example.com),\n",
       " User(username=hien, name=hiennt, email=hiennt@example.com),\n",
       " User(username=thien, name=thien1892, email=thien@exapmle.com),\n",
       " User(username=tham, name=thamtth, email=tham@example.com),\n",
       " User(username=thanh, name=thanhtc, email=thanh@example.com),\n",
       " User(username=thuan, name=thuanpt, email=thuan@exaple.com),\n",
       " User(username=dieuanh, name=bong, email=bong@example.com)]"
      ]
     },
     "execution_count": 9,
     "metadata": {},
     "output_type": "execute_result"
    }
   ],
   "source": [
    "users"
   ]
  },
  {
   "cell_type": "markdown",
   "metadata": {},
   "source": [
    "## **Liệt kê một số bối cảnh để kiểm tra output:**\n",
    "> **Insert:**\n",
    "> 1. Thêm 1 user mới chưa có trong danh sách\n",
    "> 2. Thêm 1 user mới mà user đã có trong danh sách\n",
    "> 3. Thêm 1 user mới mà username trống\n",
    "> 4. ...\n",
    ">\n",
    "> **Find:**\n",
    "> 1. Tìm 1 user mà user có trong danh sách\n",
    "> 2. Tìm 1 user mà user không có trong danh sách\n",
    "> 3. ...\n",
    ">\n",
    "> **Update:**\n",
    "> 1. Cập nhật 1 user mà user có trong danh sách\n",
    "> 2. Cập nhật 1 user mà user không có trong danh sách\n",
    "> 3. ...\n",
    ">\n",
    "> **List:**\n",
    "> 1. List danh sách mà danh sách > 1 user\n",
    "> 2. List danh sách mà danh sách = 1 user\n",
    "> 3. List danh sách mà danh sách trống\n",
    "> 4. ...\n"
   ]
  },
  {
   "cell_type": "markdown",
   "metadata": {},
   "source": [
    "# 3. Đưa nhanh 1 giải pháp\n",
    "\n",
    "> Ta lưu User theo thứ tự tăng dần (a->z)\n",
    "> Các method ta thực hiện như sau:\n",
    "> 1. Insert: Duyệt toàn bộ danh sách và thêm user mới sao cho danh sách mới được sắp xếp theo thứ tự\n",
    "> 2. Find: Duyệt toàn bộ danh sách và tìm user giống user tìm kiếm\n",
    "> 3. Update: Duyệt toàn bộ danh sách và tìm user giống user cần update để update thông tin\n",
    "> 4. List: Trả về kết quả danh sách các user"
   ]
  },
  {
   "cell_type": "code",
   "execution_count": 10,
   "metadata": {},
   "outputs": [
    {
     "data": {
      "text/plain": [
       "True"
      ]
     },
     "execution_count": 10,
     "metadata": {},
     "output_type": "execute_result"
    }
   ],
   "source": [
    "'thien' > 'chan'"
   ]
  },
  {
   "cell_type": "markdown",
   "metadata": {},
   "source": [
    "# 4. Thực hiện giải pháp vừa nêu và kiểm tra các ví dụ đưa ra"
   ]
  },
  {
   "cell_type": "code",
   "execution_count": 12,
   "metadata": {},
   "outputs": [],
   "source": [
    "class UserDatabase:\n",
    "    def __init__(self):\n",
    "        self.users = None\n",
    "    \n",
    "    def insert(self, user):\n",
    "        i = 0\n",
    "        while i < len(self.user):\n",
    "            # Tìm vị trí đầu tiên mà usernamr của danh sách lớn hơn username của user thêm vào\n",
    "            if self.users[i].username > user.username:\n",
    "                break\n",
    "            i += 1\n",
    "        self.users.insert(i, user)\n",
    "    \n",
    "    def find(self, username):\n",
    "        for user in self.users:\n",
    "            if username == user.username:\n",
    "                return user\n",
    "    \n",
    "    def update(self, user):\n",
    "        # Tìm user cần update\n",
    "        target = self.find(user.username)\n",
    "        target.name, target.email = user.name, user.email\n",
    "    \n",
    "    def list(self):\n",
    "        return self.users\n"
   ]
  },
  {
   "cell_type": "code",
   "execution_count": 13,
   "metadata": {},
   "outputs": [],
   "source": [
    "database = UserDatabase()"
   ]
  },
  {
   "cell_type": "code",
   "execution_count": null,
   "metadata": {},
   "outputs": [],
   "source": [
    "database.insert()"
   ]
  }
 ],
 "metadata": {
  "interpreter": {
   "hash": "88630d1aeead72ff5f52d8abbdc2c416a0e30170fb5e4a4dc1f45117e9b7f24d"
  },
  "kernelspec": {
   "display_name": "Python 3.8.10 64-bit",
   "language": "python",
   "name": "python3"
  },
  "language_info": {
   "codemirror_mode": {
    "name": "ipython",
    "version": 3
   },
   "file_extension": ".py",
   "mimetype": "text/x-python",
   "name": "python",
   "nbconvert_exporter": "python",
   "pygments_lexer": "ipython3",
   "version": "3.8.10"
  },
  "orig_nbformat": 4
 },
 "nbformat": 4,
 "nbformat_minor": 2
}
